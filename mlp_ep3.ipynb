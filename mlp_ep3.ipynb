{
 "cells": [
  {
   "cell_type": "code",
   "execution_count": 23,
   "metadata": {},
   "outputs": [],
   "source": [
    "import numpy as np\n",
    "#sigmoid function\n",
    "def sigmoid(X):\n",
    "   return 1/(1+np.exp(-X))"
   ]
  },
  {
   "cell_type": "code",
   "execution_count": 87,
   "metadata": {},
   "outputs": [
    {
     "name": "stdout",
     "output_type": "stream",
     "text": [
      "(1000, 2)\n",
      "(2, 1)\n",
      "(1000, 1)\n"
     ]
    },
    {
     "ename": "ValueError",
     "evalue": "operands could not be broadcast together with shapes (1000,1) (2,1) ",
     "output_type": "error",
     "traceback": [
      "\u001b[1;31m---------------------------------------------------------------------------\u001b[0m",
      "\u001b[1;31mValueError\u001b[0m                                Traceback (most recent call last)",
      "Cell \u001b[1;32mIn[87], line 79\u001b[0m\n\u001b[0;32m     76\u001b[0m W0_1 \u001b[39m=\u001b[39m np\u001b[39m.\u001b[39mzeros(\u001b[39m2\u001b[39m)\n\u001b[0;32m     77\u001b[0m W01_2 \u001b[39m=\u001b[39m np\u001b[39m.\u001b[39mzeros(\u001b[39m2\u001b[39m)\n\u001b[1;32m---> 79\u001b[0m mlp_n_1_training(x, y, \u001b[39m0.1\u001b[39;49m, \u001b[39mlen\u001b[39;49m(x), \u001b[39m1\u001b[39;49m,W0_1,W01_2)\n",
      "Cell \u001b[1;32mIn[87], line 56\u001b[0m, in \u001b[0;36mmlp_n_1_training\u001b[1;34m(x, d, eta, Nt, Ne, W0N_1, W01_2)\u001b[0m\n\u001b[0;32m     54\u001b[0m \u001b[39m#Algoritmo de backpropagation\u001b[39;00m\n\u001b[0;32m     55\u001b[0m delta1_2 \u001b[39m=\u001b[39m dphi1_2\u001b[39m*\u001b[39me1_2\n\u001b[1;32m---> 56\u001b[0m delta1 \u001b[39m=\u001b[39m dphi1_2\u001b[39m*\u001b[39;49mdphiN_1\u001b[39m*\u001b[39;49mW1_2 \u001b[39m#Vetor de deltas dos neurônios da camada 1\u001b[39;00m\n\u001b[0;32m     58\u001b[0m \u001b[39m#Atualização dos pesos da última camada\u001b[39;00m\n\u001b[0;32m     59\u001b[0m W1_2 \u001b[39m=\u001b[39m W1_2 \u001b[39m+\u001b[39m eta\u001b[39m*\u001b[39m(delta1_2\u001b[39m*\u001b[39mX2)\n",
      "\u001b[1;31mValueError\u001b[0m: operands could not be broadcast together with shapes (1000,1) (2,1) "
     ]
    }
   ],
   "source": [
    "def mlp_n_1_training(x, d, eta, Nt, Ne, W0N_1, W01_2):\n",
    "    \"\"\"\n",
    "    J_MSE, W_1, W1_2 = mlp_n_1_training(x, d, Nn, eta, Nt, Nb, Ne, W0)\n",
    "    Saídas:\n",
    "    J_MSE: valor da função custo ao longo das épocas\n",
    "    W0_1: vetor de pesos da camada 1. - Cada neurônio tem um peso somente (uma entrada) \n",
    "    W1_2: vetor de pesos do neurônio 1 da camada de saída\n",
    "    Entradas:\n",
    "    x: sinal de entrada: (apenas uma feature)\n",
    "    d: sinal desejado\n",
    "    eta: passo de adaptação\n",
    "    Nt: número de dados de treinamento\n",
    "    Ne: número de épocas\n",
    "    W0_1: vetor de pesos da camada 1. Cada neurônio tem um peso somente (uma entrada) \n",
    "    W01_2: vetor de pesos o neurônio 1 da camada de saída (útlima iteração, inclui o bias)\n",
    "    \"\"\"\n",
    "    WN_1  = W0N_1.reshape(-1,1).copy()\n",
    "    W1_2 = W01_2.reshape(-1,1).copy()\n",
    "\n",
    "    # inicialização do vetor que contém o valor da função custo\n",
    "    J_MSE = np.zeros((Ne, 1))\n",
    "\n",
    "    # Juntamos o vetor de entrada com o sinal desejado e inserimos\n",
    "    # uma coluna de uns para levar em conta o bias\n",
    "    Xd = np.hstack((np.ones((Nt, 1)), x.reshape(-1,1), d.reshape(-1,1)))\n",
    "    v1 = np.zeros((WN_1.shape[1],1))\n",
    "    y1 = np.zeros((WN_1.shape[1],1))\n",
    "\n",
    "    #For das épocas\n",
    "    for k in range(Ne):\n",
    "\n",
    "        np.random.shuffle(Xd)\n",
    "        X = Xd[:, 0:2]\n",
    "        d = Xd[:, [2]]\n",
    "\n",
    "        #Cálculo progressivo\n",
    "        #Neuronios da camada 1:\n",
    "        v1 = X@WN_1\n",
    "        y1 = sigmoid(v1)\n",
    "        dphiN_1 = y1 *(1 - y1) #dphis da camada 1\n",
    "\n",
    "        #Neurônio da camada de saída\n",
    "        X2 = np.hstack((np.ones((Nt, 1)), y1))\n",
    "        v1_2 = X2@W1_2\n",
    "        y1_2 = sigmoid(v1_2)\n",
    "        dphi1_2 = y1_2 * (1 - y1_2)\n",
    "        print(X2.shape)\n",
    "        print(W1_2.shape)\n",
    "        print(y1_2.shape)\n",
    "\n",
    "        #Erro da última camada\n",
    "        e1_2 = d - y1_2\n",
    "\n",
    "        #Algoritmo de backpropagation\n",
    "        delta1_2 = dphi1_2*e1_2\n",
    "        delta1 = dphi1_2*dphiN_1*W1_2 #Vetor de deltas dos neurônios da camada 1\n",
    "\n",
    "        #Atualização dos pesos da última camada\n",
    "        W1_2 = W1_2 + eta*(delta1_2*X2)\n",
    "\n",
    "        #Atualização dos pesos da primeira camada\n",
    "        WN_1 = WN_1 + eta*(delta1*X)\n",
    "\n",
    "        J_MSE[k] = (J_MSE[k] + (np.linalg.norm(e1_2)) ** 2)\n",
    "\n",
    "        print(f\"Época: {k}, MSE: {J_MSE[k]}\")\n",
    "    \n",
    "    return J_MSE, WN_1, W1_2\n",
    "\n",
    "# --------- #\n",
    "#Gerando conjunto de dados e de treinamentos\n",
    "num_points_training = 1000\n",
    "x = np.random.uniform(1,100, num_points_training)\n",
    "y = 1/x\n",
    "num_neurons_hidden_layer = 2\n",
    "W0_1 = np.zeros(2)\n",
    "W01_2 = np.zeros((num_neurons_hidden_layer, 2))\n",
    "\n",
    "mlp_n_1_training(x, y, 0.1, len(x), 1,W0_1,W01_2)"
   ]
  },
  {
   "cell_type": "code",
   "execution_count": 52,
   "metadata": {},
   "outputs": [],
   "source": [
    "# Gerando conjuntos de dados e de treinamentos\n"
   ]
  },
  {
   "cell_type": "code",
   "execution_count": 53,
   "metadata": {},
   "outputs": [
    {
     "data": {
      "text/plain": [
       "[<matplotlib.lines.Line2D at 0x1aad929b7d0>]"
      ]
     },
     "execution_count": 53,
     "metadata": {},
     "output_type": "execute_result"
    },
    {
     "data": {
      "image/png": "[encoded data removed]",
      "text/plain": [
       "<Figure size 640x480 with 1 Axes>"
      ]
     },
     "metadata": {},
     "output_type": "display_data"
    }
   ],
   "source": [
    "import matplotlib.pyplot as plt\n",
    "plt.plot(x, y, 'o')"
   ]
  },
  {
   "cell_type": "code",
   "execution_count": 63,
   "metadata": {},
   "outputs": [
    {
     "data": {
      "text/plain": [
       "array([0., 0.])"
      ]
     },
     "execution_count": 63,
     "metadata": {},
     "output_type": "execute_result"
    }
   ],
   "source": [
    "np.zeros(2)\n"
   ]
  },
  {
   "cell_type": "code",
   "execution_count": null,
   "metadata": {},
   "outputs": [],
   "source": []
  }
 ],
 "metadata": {
  "kernelspec": {
   "display_name": "visagio-projects",
   "language": "python",
   "name": "python3"
  },
  "language_info": {
   "codemirror_mode": {
    "name": "ipython",
    "version": 3
   },
   "file_extension": ".py",
   "mimetype": "text/x-python",
   "name": "python",
   "nbconvert_exporter": "python",
   "pygments_lexer": "ipython3",
   "version": "3.11.2"
  },
  "orig_nbformat": 4
 },
 "nbformat": 4,
 "nbformat_minor": 2
}
